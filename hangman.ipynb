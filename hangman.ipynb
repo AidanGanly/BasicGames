{
 "cells": [
  {
   "cell_type": "code",
   "execution_count": 5,
   "metadata": {},
   "outputs": [
    {
     "name": "stdout",
     "output_type": "stream",
     "text": [
      "What is the word you want your opponent(s) to guess?········\n",
      "_\n",
      "You have 11 guesse(s) left\n",
      "Enter a letter as your guess: a\n",
      "\n",
      "\n",
      "\n",
      "The letter, A is in the word!\n",
      "A\n",
      "You guessed the word correctly! The word was A\n"
     ]
    }
   ],
   "source": [
    "import string\n",
    "import getpass\n",
    "alphabet = string.ascii_uppercase\n",
    "guessed = False\n",
    "guesses = 11\n",
    "word = getpass.getpass(\"What is the word you want your opponent(s) to guess?\").upper()\n",
    "wordProgress = list(len(word)*\"_\")\n",
    "print(\"\".join(wordProgress))\n",
    "while guessed == False:\n",
    "    if \"_\" not in wordProgress:\n",
    "        print(\"You guessed the word correctly! The word was\",word)\n",
    "        guessed=True\n",
    "        break\n",
    "    print(\"You have\",guesses,\"guesse(s) left\")\n",
    "    guess = input(\"Enter a letter as your guess: \").upper()\n",
    "    print(\"\")\n",
    "    print(\"\")\n",
    "    print(\"\")\n",
    "    if guess in word:\n",
    "        print(\"The letter,\",guess,\"is in the word!\")\n",
    "        for i in range(len(word)):\n",
    "            if guess == word[i]:\n",
    "                wordProgress[i] = guess\n",
    "                print(\"\".join(wordProgress))\n",
    "    else:\n",
    "        print(\"The letter,\",guess,\"isn't in the word!\")\n",
    "        guesses-=1"
   ]
  }
 ],
 "metadata": {
  "kernelspec": {
   "display_name": "Python 3",
   "language": "python",
   "name": "python3"
  },
  "language_info": {
   "codemirror_mode": {
    "name": "ipython",
    "version": 3
   },
   "file_extension": ".py",
   "mimetype": "text/x-python",
   "name": "python",
   "nbconvert_exporter": "python",
   "pygments_lexer": "ipython3",
   "version": "3.5.2"
  }
 },
 "nbformat": 4,
 "nbformat_minor": 2
}
